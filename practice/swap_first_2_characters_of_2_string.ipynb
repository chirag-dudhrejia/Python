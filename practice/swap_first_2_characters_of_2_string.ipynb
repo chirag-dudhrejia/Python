{
 "cells": [
  {
   "cell_type": "code",
   "execution_count": 8,
   "id": "d3091ef0",
   "metadata": {},
   "outputs": [
    {
     "name": "stdout",
     "output_type": "stream",
     "text": [
      "Enter string : chirag dudhrejia\n",
      "['duirag', 'chdhrejia']\n"
     ]
    }
   ],
   "source": [
    "lst = input(\"Enter string : \").split(' ')\n",
    "first2 = lst[0][:2]\n",
    "lst[0] = lst[1][:2]+lst[0][2:]\n",
    "lst[1] = first2+lst[1][2:]\n",
    "\n",
    "print(lst)"
   ]
  },
  {
   "cell_type": "code",
   "execution_count": null,
   "id": "96ac6178",
   "metadata": {},
   "outputs": [],
   "source": []
  }
 ],
 "metadata": {
  "kernelspec": {
   "display_name": "Python 3 (ipykernel)",
   "language": "python",
   "name": "python3"
  },
  "language_info": {
   "codemirror_mode": {
    "name": "ipython",
    "version": 3
   },
   "file_extension": ".py",
   "mimetype": "text/x-python",
   "name": "python",
   "nbconvert_exporter": "python",
   "pygments_lexer": "ipython3",
   "version": "3.11.4"
  }
 },
 "nbformat": 4,
 "nbformat_minor": 5
}
