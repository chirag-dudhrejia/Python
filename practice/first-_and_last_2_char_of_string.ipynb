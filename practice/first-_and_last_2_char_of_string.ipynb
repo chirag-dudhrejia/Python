{
 "cells": [
  {
   "cell_type": "code",
   "execution_count": 4,
   "id": "ea94b3a0",
   "metadata": {},
   "outputs": [
    {
     "name": "stdout",
     "output_type": "stream",
     "text": [
      "Enter String : chirag\n",
      "First and Last 2 char of Strings : chag\n"
     ]
    }
   ],
   "source": [
    "string = input(\"Enter String : \")\n",
    "\n",
    "print(f\"First and Last 2 char of Strings : {string[:2]+string[(len(string)-2):len(string)]}\")"
   ]
  },
  {
   "cell_type": "code",
   "execution_count": null,
   "id": "5e4dc2e7",
   "metadata": {},
   "outputs": [],
   "source": []
  }
 ],
 "metadata": {
  "kernelspec": {
   "display_name": "Python 3 (ipykernel)",
   "language": "python",
   "name": "python3"
  },
  "language_info": {
   "codemirror_mode": {
    "name": "ipython",
    "version": 3
   },
   "file_extension": ".py",
   "mimetype": "text/x-python",
   "name": "python",
   "nbconvert_exporter": "python",
   "pygments_lexer": "ipython3",
   "version": "3.11.4"
  }
 },
 "nbformat": 4,
 "nbformat_minor": 5
}
