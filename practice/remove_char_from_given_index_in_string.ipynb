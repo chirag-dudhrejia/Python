{
 "cells": [
  {
   "cell_type": "code",
   "execution_count": 8,
   "id": "96a8bb0f",
   "metadata": {},
   "outputs": [],
   "source": [
    "def remove_char(string, index):\n",
    "    if index<len(string):\n",
    "        first = string[:index-1]\n",
    "        last = string[index:]\n",
    "        return first+last\n",
    "    else:\n",
    "        return False"
   ]
  },
  {
   "cell_type": "code",
   "execution_count": 9,
   "id": "20cfb5f3",
   "metadata": {},
   "outputs": [
    {
     "name": "stdout",
     "output_type": "stream",
     "text": [
      "Enter String : chirag\n",
      "Enter Index of charecter to remove : 3\n",
      "chrag\n"
     ]
    }
   ],
   "source": [
    "string = input(\"Enter String : \")\n",
    "index = int(input(\"Enter Index of charecter to remove : \"))\n",
    "\n",
    "result = remove_char(string, index)\n",
    "\n",
    "if result == False:\n",
    "    print(\"Index out of range.\")\n",
    "else:\n",
    "    print(result)"
   ]
  },
  {
   "cell_type": "code",
   "execution_count": null,
   "id": "9b6bcd1e",
   "metadata": {},
   "outputs": [],
   "source": []
  }
 ],
 "metadata": {
  "kernelspec": {
   "display_name": "Python 3 (ipykernel)",
   "language": "python",
   "name": "python3"
  },
  "language_info": {
   "codemirror_mode": {
    "name": "ipython",
    "version": 3
   },
   "file_extension": ".py",
   "mimetype": "text/x-python",
   "name": "python",
   "nbconvert_exporter": "python",
   "pygments_lexer": "ipython3",
   "version": "3.11.4"
  }
 },
 "nbformat": 4,
 "nbformat_minor": 5
}
