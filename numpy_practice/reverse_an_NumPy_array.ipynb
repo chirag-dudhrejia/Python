{
 "cells": [
  {
   "cell_type": "markdown",
   "id": "89da7958",
   "metadata": {},
   "source": [
    "## Write a NumPy program to reverse an array."
   ]
  },
  {
   "cell_type": "code",
   "execution_count": 1,
   "id": "3a9450a5",
   "metadata": {},
   "outputs": [],
   "source": [
    "import numpy as np"
   ]
  },
  {
   "cell_type": "code",
   "execution_count": 14,
   "id": "c55c737e",
   "metadata": {},
   "outputs": [
    {
     "name": "stdout",
     "output_type": "stream",
     "text": [
      "[22 91 35 87  6]\n",
      "[ 6 87 35 91 22]\n"
     ]
    }
   ],
   "source": [
    "arr = np.random.randint(100, size=5)\n",
    "print(arr)\n",
    "\n",
    "arr = arr[::-1]\n",
    "print(arr)"
   ]
  },
  {
   "cell_type": "code",
   "execution_count": null,
   "id": "81191488",
   "metadata": {},
   "outputs": [],
   "source": []
  }
 ],
 "metadata": {
  "kernelspec": {
   "display_name": "Python 3 (ipykernel)",
   "language": "python",
   "name": "python3"
  },
  "language_info": {
   "codemirror_mode": {
    "name": "ipython",
    "version": 3
   },
   "file_extension": ".py",
   "mimetype": "text/x-python",
   "name": "python",
   "nbconvert_exporter": "python",
   "pygments_lexer": "ipython3",
   "version": "3.11.4"
  }
 },
 "nbformat": 4,
 "nbformat_minor": 5
}
