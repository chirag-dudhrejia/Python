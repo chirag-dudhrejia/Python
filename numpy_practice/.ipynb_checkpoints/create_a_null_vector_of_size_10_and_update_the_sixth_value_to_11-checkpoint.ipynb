{
 "cells": [
  {
   "cell_type": "markdown",
   "id": "2646c0d2",
   "metadata": {},
   "source": [
    "### Write a NumPy program to create a null vector of size 10 and update the sixth value to 11."
   ]
  },
  {
   "cell_type": "code",
   "execution_count": 1,
   "id": "a653cf7e",
   "metadata": {},
   "outputs": [],
   "source": [
    "import numpy as np"
   ]
  },
  {
   "cell_type": "code",
   "execution_count": 9,
   "id": "ca7e3593",
   "metadata": {},
   "outputs": [
    {
     "name": "stdout",
     "output_type": "stream",
     "text": [
      "Original :  [0. 0. 0. 0. 0. 0. 0. 0. 0. 0.]\n",
      "Modefied :  [ 0.  0.  0.  0.  0. 11.  0.  0.  0.  0.]\n"
     ]
    }
   ],
   "source": [
    "vec = np.zeros(10)\n",
    "print(\"Original : \",vec)\n",
    "\n",
    "vec[5] = 11\n",
    "print(\"Modefied : \",vec)"
   ]
  },
  {
   "cell_type": "code",
   "execution_count": null,
   "id": "ac1f96f9",
   "metadata": {},
   "outputs": [],
   "source": []
  }
 ],
 "metadata": {
  "kernelspec": {
   "display_name": "Python 3 (ipykernel)",
   "language": "python",
   "name": "python3"
  },
  "language_info": {
   "codemirror_mode": {
    "name": "ipython",
    "version": 3
   },
   "file_extension": ".py",
   "mimetype": "text/x-python",
   "name": "python",
   "nbconvert_exporter": "python",
   "pygments_lexer": "ipython3",
   "version": "3.11.4"
  }
 },
 "nbformat": 4,
 "nbformat_minor": 5
}
