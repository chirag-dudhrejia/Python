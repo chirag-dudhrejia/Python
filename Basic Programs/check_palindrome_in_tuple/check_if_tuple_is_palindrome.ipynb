{
 "cells": [
  {
   "cell_type": "code",
   "execution_count": 1,
   "id": "9480ebdb",
   "metadata": {},
   "outputs": [],
   "source": [
    "def palindrome(tpl):\n",
    "    tpl_copy = tpl[::-1]\n",
    "    \n",
    "    if tpl == tpl_copy:\n",
    "        return \"Yes!\"\n",
    "    else:\n",
    "        return \"No!\""
   ]
  },
  {
   "cell_type": "code",
   "execution_count": 8,
   "id": "5b09f1ef",
   "metadata": {},
   "outputs": [
    {
     "name": "stdout",
     "output_type": "stream",
     "text": [
      "Enter Comma Saperated words : 1,2,3,4,3,2,1\n",
      "Yes!\n"
     ]
    }
   ],
   "source": [
    "tpl = tuple(input(\"Enter Comma Saperated words : \").split(\",\"))\n",
    "\n",
    "print(palindrome(tpl))"
   ]
  },
  {
   "cell_type": "code",
   "execution_count": null,
   "id": "6e5c10bc",
   "metadata": {},
   "outputs": [],
   "source": []
  }
 ],
 "metadata": {
  "kernelspec": {
   "display_name": "Python 3 (ipykernel)",
   "language": "python",
   "name": "python3"
  },
  "language_info": {
   "codemirror_mode": {
    "name": "ipython",
    "version": 3
   },
   "file_extension": ".py",
   "mimetype": "text/x-python",
   "name": "python",
   "nbconvert_exporter": "python",
   "pygments_lexer": "ipython3",
   "version": "3.11.4"
  }
 },
 "nbformat": 4,
 "nbformat_minor": 5
}
