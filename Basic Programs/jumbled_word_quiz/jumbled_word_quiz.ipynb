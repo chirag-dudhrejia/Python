{
 "cells": [
  {
   "cell_type": "code",
   "execution_count": 1,
   "id": "e95bec04",
   "metadata": {},
   "outputs": [],
   "source": [
    "import random\n",
    "import word_list"
   ]
  },
  {
   "cell_type": "code",
   "execution_count": 2,
   "id": "c5ef459f",
   "metadata": {},
   "outputs": [],
   "source": [
    "def jumble_word(word):\n",
    "    temp_word = list(word)\n",
    "    random.shuffle(temp_word)\n",
    "    return \"\".join(temp_word)"
   ]
  },
  {
   "cell_type": "code",
   "execution_count": 5,
   "id": "dd9e313e",
   "metadata": {},
   "outputs": [],
   "source": [
    "def game():\n",
    "    p1_name = input(\"Player 1, enter your name : \")\n",
    "    p2_name = input(\"Player 2, enter your name : \")\n",
    "    p1 = 0\n",
    "    p2 = 0\n",
    "    turn = 0\n",
    "    while(1):\n",
    "        word = random.choice(word_list.words)\n",
    "        jumbled_word = jumble_word(word)\n",
    "        print(f\"\\n-->{jumbled_word}<--\\n\")\n",
    "        \n",
    "        if turn%2 == 0:\n",
    "            print(f\"{p1_name} your turn.\")\n",
    "            guess = input(\"What is in my mind? : \").lower()\n",
    "            turn += 1\n",
    "            if guess==word:\n",
    "                p1 += 1\n",
    "                print(f\"{p1_name}'s Score : {p1}\")\n",
    "            else:\n",
    "                print(f\"Better luck next time, I thought {word}\")\n",
    "            flag = int(input(\"\\nWant to continue?\\n1 to continue\\n0 to exit\"))\n",
    "            if flag==0:\n",
    "                break\n",
    "        else:\n",
    "            print(f\"{p2_name} your turn.\")\n",
    "            guess = input(\"What is in my mind? : \").lower()\n",
    "            turn += 1\n",
    "            if guess==word:\n",
    "                p2 += 1\n",
    "                print(f\"{p2_name}'s Score : {p2}\\n\")\n",
    "            else:\n",
    "                print(f\"Better luck next time, I thought {word}\")\n",
    "            flag = int(input(\"Want to continue?\\n1 to continue\\n0 to exit\"))\n",
    "            if flag==0:\n",
    "#                 print(f\"Thank you for playing : {p1_name}, {p2_name}\")\n",
    "#                 print(f\"Scores\\n{p1_name} : {p1}\\n{p1_name} : {p2}\")\n",
    "                break\n",
    "    print(f\"\\nScores\\n{p1_name} : {p1}\\n{p2_name} : {p2}\")\n",
    "    print(f\"\\n{p1_name}, {p2_name} Thank you for playing\")\n",
    "    print(\"Have a nice day.\")"
   ]
  },
  {
   "cell_type": "code",
   "execution_count": 6,
   "id": "6418d19d",
   "metadata": {},
   "outputs": [
    {
     "name": "stdout",
     "output_type": "stream",
     "text": [
      "Player 1, enter your name : Chirag\n",
      "Player 2, enter your name : nobody\n",
      "\n",
      "-->eryda<--\n",
      "\n",
      "Chirag your turn.\n",
      "What is in my mind? : ready\n",
      "Chirag's Score : 1\n",
      "\n",
      "Want to continue?\n",
      "1 to continue\n",
      "0 to exit1\n",
      "\n",
      "-->scieutj<--\n",
      "\n",
      "nobody your turn.\n",
      "What is in my mind? : justice\n",
      "nobody's Score : 1\n",
      "\n",
      "Want to continue?\n",
      "1 to continue\n",
      "0 to exit1\n",
      "\n",
      "-->utdpies<--\n",
      "\n",
      "Chirag your turn.\n",
      "What is in my mind? : kdmjfjdv\n",
      "Better luck next time, I thought dispute\n",
      "\n",
      "Want to continue?\n",
      "1 to continue\n",
      "0 to exit0\n",
      "\n",
      "Scores\n",
      "Chirag : 1\n",
      "nobody : 1\n",
      "\n",
      "Chirag, nobody Thank you for playing\n",
      "Have a nice day.\n"
     ]
    }
   ],
   "source": [
    "game()"
   ]
  },
  {
   "cell_type": "code",
   "execution_count": null,
   "id": "8ab9af77",
   "metadata": {},
   "outputs": [],
   "source": []
  }
 ],
 "metadata": {
  "kernelspec": {
   "display_name": "Python 3 (ipykernel)",
   "language": "python",
   "name": "python3"
  },
  "language_info": {
   "codemirror_mode": {
    "name": "ipython",
    "version": 3
   },
   "file_extension": ".py",
   "mimetype": "text/x-python",
   "name": "python",
   "nbconvert_exporter": "python",
   "pygments_lexer": "ipython3",
   "version": "3.11.4"
  }
 },
 "nbformat": 4,
 "nbformat_minor": 5
}
