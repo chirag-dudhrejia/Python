{
 "cells": [
  {
   "cell_type": "code",
   "execution_count": 78,
   "id": "bda82c46",
   "metadata": {},
   "outputs": [],
   "source": [
    "import math\n",
    "def is_prime(num):\n",
    "    for i in range(2, round(math.sqrt(num)+1)):\n",
    "        if num%i == 0:\n",
    "            return False\n",
    "    return True"
   ]
  },
  {
   "cell_type": "code",
   "execution_count": 79,
   "id": "44ae738a",
   "metadata": {},
   "outputs": [],
   "source": [
    "def twin_prime(end):\n",
    "    twin_list = []\n",
    "    p1 = p2 = 1\n",
    "    for i in range(2, end):\n",
    "        if is_prime(i):\n",
    "            p1 = p2\n",
    "            p2 = i\n",
    "            if (p1 == (p2-2)):\n",
    "                twin_list.append([p1, p2])\n",
    "    return twin_list"
   ]
  },
  {
   "cell_type": "code",
   "execution_count": 80,
   "id": "5d06e12d",
   "metadata": {},
   "outputs": [
    {
     "name": "stdout",
     "output_type": "stream",
     "text": [
      "Enter end of range : 100\n",
      "[[3, 5], [5, 7], [11, 13], [17, 19], [29, 31], [41, 43], [59, 61], [71, 73]]\n"
     ]
    }
   ],
   "source": [
    "range_end = int(input(\"Enter end of range : \"))\n",
    "\n",
    "twins = twin_prime(range_end)\n",
    "print(twins)"
   ]
  },
  {
   "cell_type": "code",
   "execution_count": 91,
   "id": "397359e1",
   "metadata": {},
   "outputs": [
    {
     "name": "stdout",
     "output_type": "stream",
     "text": [
      "Sorted list of tuples based on age:\n",
      "[('Eve', 22), ('Alice', 25), ('David', 28), ('Bob', 30), ('Carol', 35)]\n"
     ]
    }
   ],
   "source": [
    "list_of_tuples = [\n",
    "    ('Alice', 25),\n",
    "    ('Bob', 30),\n",
    "    ('Eve', 22),\n",
    "    ('David', 28),\n",
    "    ('Carol', 35)\n",
    "]\n",
    "\n",
    "# Sort the list of tuples based on the second element (age)\n",
    "list_of_tuples.sort(key=lambda x: x[1])\n",
    "\n",
    "print(\"Sorted list of tuples based on age:\")\n",
    "print(list_of_tuples)"
   ]
  },
  {
   "cell_type": "code",
   "execution_count": 96,
   "id": "83923b77",
   "metadata": {},
   "outputs": [
    {
     "name": "stdout",
     "output_type": "stream",
     "text": [
      "[6, 7, 8, 9, 10]\n"
     ]
    }
   ],
   "source": [
    "num = [1 , 2 , 3 , 4 , 5 , 6 , 7 , 8 , 9 , 10]\n",
    "\n",
    "y = list(filter(lambda num: num>5, num));\n",
    "\n",
    "print(y)"
   ]
  },
  {
   "cell_type": "code",
   "execution_count": null,
   "id": "d9fd566d",
   "metadata": {},
   "outputs": [],
   "source": []
  }
 ],
 "metadata": {
  "kernelspec": {
   "display_name": "Python 3 (ipykernel)",
   "language": "python",
   "name": "python3"
  },
  "language_info": {
   "codemirror_mode": {
    "name": "ipython",
    "version": 3
   },
   "file_extension": ".py",
   "mimetype": "text/x-python",
   "name": "python",
   "nbconvert_exporter": "python",
   "pygments_lexer": "ipython3",
   "version": "3.11.4"
  }
 },
 "nbformat": 4,
 "nbformat_minor": 5
}
