{
 "cells": [
  {
   "cell_type": "code",
   "execution_count": 78,
   "id": "bda82c46",
   "metadata": {},
   "outputs": [],
   "source": [
    "import math\n",
    "def is_prime(num):\n",
    "    for i in range(2, round(math.sqrt(num)+1)):\n",
    "        if num%i == 0:\n",
    "            return False\n",
    "    return True"
   ]
  },
  {
   "cell_type": "code",
   "execution_count": 79,
   "id": "44ae738a",
   "metadata": {},
   "outputs": [],
   "source": [
    "def twin_prime(end):\n",
    "    twin_list = []\n",
    "    p1 = p2 = 1\n",
    "    for i in range(2, end):\n",
    "        if is_prime(i):\n",
    "            p1 = p2\n",
    "            p2 = i\n",
    "            if (p1 == (p2-2)):\n",
    "                twin_list.append([p1, p2])\n",
    "    return twin_list"
   ]
  },
  {
   "cell_type": "code",
   "execution_count": 80,
   "id": "5d06e12d",
   "metadata": {},
   "outputs": [
    {
     "name": "stdout",
     "output_type": "stream",
     "text": [
      "Enter end of range : 100\n",
      "[[3, 5], [5, 7], [11, 13], [17, 19], [29, 31], [41, 43], [59, 61], [71, 73]]\n"
     ]
    }
   ],
   "source": [
    "range_end = int(input(\"Enter end of range : \"))\n",
    "\n",
    "twins = twin_prime(range_end)\n",
    "print(twins)"
   ]
  }
 ],
 "metadata": {
  "kernelspec": {
   "display_name": "Python 3 (ipykernel)",
   "language": "python",
   "name": "python3"
  },
  "language_info": {
   "codemirror_mode": {
    "name": "ipython",
    "version": 3
   },
   "file_extension": ".py",
   "mimetype": "text/x-python",
   "name": "python",
   "nbconvert_exporter": "python",
   "pygments_lexer": "ipython3",
   "version": "3.11.4"
  }
 },
 "nbformat": 4,
 "nbformat_minor": 5
}
