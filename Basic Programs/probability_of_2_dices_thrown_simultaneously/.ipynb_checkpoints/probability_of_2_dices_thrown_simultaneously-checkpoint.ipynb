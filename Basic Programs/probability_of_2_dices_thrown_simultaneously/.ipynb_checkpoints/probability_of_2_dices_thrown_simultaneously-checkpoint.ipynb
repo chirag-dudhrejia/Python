{
 "cells": [
  {
   "cell_type": "markdown",
   "id": "fddb986c",
   "metadata": {},
   "source": [
    "## Probability of getting sum greater than 7 when 2 dices are thrown simultaneously."
   ]
  },
  {
   "cell_type": "markdown",
   "id": "6a9fe889",
   "metadata": {},
   "source": [
    "### 15/36 = 0.41666666"
   ]
  },
  {
   "cell_type": "code",
   "execution_count": 18,
   "id": "ae0f8763",
   "metadata": {},
   "outputs": [
    {
     "name": "stdout",
     "output_type": "stream",
     "text": [
      "0.416661\n"
     ]
    }
   ],
   "source": [
    "import numpy as np\n",
    "\n",
    "# 2 dice rolled 1 billion times\n",
    "dice1 = np.random.randint(1, 7, 1000000)\n",
    "dice2 = np.random.randint(1, 7, 1000000)\n",
    "\n",
    "# Events when sum of two dice is greater than 7\n",
    "count = sum((dice1 + dice2)>7)\n",
    "probability = count/1000000\n",
    "\n",
    "# it comes same with just variance of fractions\n",
    "print(probability)"
   ]
  },
  {
   "cell_type": "code",
   "execution_count": null,
   "id": "e6322b9f",
   "metadata": {},
   "outputs": [],
   "source": []
  },
  {
   "cell_type": "code",
   "execution_count": null,
   "id": "ae9ebc52",
   "metadata": {},
   "outputs": [],
   "source": []
  }
 ],
 "metadata": {
  "kernelspec": {
   "display_name": "Python 3 (ipykernel)",
   "language": "python",
   "name": "python3"
  },
  "language_info": {
   "codemirror_mode": {
    "name": "ipython",
    "version": 3
   },
   "file_extension": ".py",
   "mimetype": "text/x-python",
   "name": "python",
   "nbconvert_exporter": "python",
   "pygments_lexer": "ipython3",
   "version": "3.11.4"
  }
 },
 "nbformat": 4,
 "nbformat_minor": 5
}
