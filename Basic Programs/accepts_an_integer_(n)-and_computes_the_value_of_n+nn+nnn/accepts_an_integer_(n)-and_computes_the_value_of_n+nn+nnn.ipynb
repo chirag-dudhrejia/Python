{
 "cells": [
  {
   "cell_type": "code",
   "execution_count": 4,
   "id": "4867484b-7980-4b85-b04c-5d732e0866d7",
   "metadata": {
    "tags": []
   },
   "outputs": [
    {
     "name": "stdin",
     "output_type": "stream",
     "text": [
      "Enter integer here :  10\n"
     ]
    },
    {
     "name": "stdout",
     "output_type": "stream",
     "text": [
      "102030\n"
     ]
    }
   ],
   "source": [
    "n = int(input(\"Enter integer here : \"))\n",
    "n1 = int(\"%s\" %n)\n",
    "n2 = int(\"%s%s\" %(n,n))\n",
    "n3 = int(\"%s%s%s\" %(n,n,n))\n",
    "print(n1+n2+n3)"
   ]
  },
  {
   "cell_type": "code",
   "execution_count": null,
   "id": "e6c29837-3229-40f4-86f5-7b00c10237b5",
   "metadata": {},
   "outputs": [],
   "source": []
  }
 ],
 "metadata": {
  "kernelspec": {
   "display_name": "Python 3 (ipykernel)",
   "language": "python",
   "name": "python3"
  },
  "language_info": {
   "codemirror_mode": {
    "name": "ipython",
    "version": 3
   },
   "file_extension": ".py",
   "mimetype": "text/x-python",
   "name": "python",
   "nbconvert_exporter": "python",
   "pygments_lexer": "ipython3",
   "version": "3.11.4"
  }
 },
 "nbformat": 4,
 "nbformat_minor": 5
}
