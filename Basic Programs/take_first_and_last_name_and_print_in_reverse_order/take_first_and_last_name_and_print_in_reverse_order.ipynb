{
 "cells": [
  {
   "cell_type": "code",
   "execution_count": null,
   "id": "caea3bc8-15b6-48bb-a112-3fbe41fa07c1",
   "metadata": {
    "tags": []
   },
   "outputs": [
    {
     "name": "stdin",
     "output_type": "stream",
     "text": [
      "Enter first name chirag\n",
      "Enter last name dudhrejia\n"
     ]
    },
    {
     "name": "stdout",
     "output_type": "stream",
     "text": [
      "Hello,  dudhrejia chirag\n"
     ]
    }
   ],
   "source": [
    "fname = input(\"Enter first name\")\n",
    "lname = input(\"Enter last name\")\n",
    "\n",
    "print(\"Hello,  \" + lname + \" \" + fname)"
   ]
  }
 ],
 "metadata": {
  "kernelspec": {
   "display_name": "Python 3 (ipykernel)",
   "language": "python",
   "name": "python3"
  },
  "language_info": {
   "codemirror_mode": {
    "name": "ipython",
    "version": 3
   },
   "file_extension": ".py",
   "mimetype": "text/x-python",
   "name": "python",
   "nbconvert_exporter": "python",
   "pygments_lexer": "ipython3",
   "version": "3.11.4"
  }
 },
 "nbformat": 4,
 "nbformat_minor": 5
}
