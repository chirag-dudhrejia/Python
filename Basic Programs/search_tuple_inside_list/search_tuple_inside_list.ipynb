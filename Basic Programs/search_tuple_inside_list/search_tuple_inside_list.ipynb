{
 "cells": [
  {
   "cell_type": "code",
   "execution_count": 16,
   "id": "7d9e7f9c-e443-4c32-93a5-eaf0240c7fc8",
   "metadata": {},
   "outputs": [],
   "source": [
    "def search_tuple(lst):\n",
    "    for i in lst:\n",
    "        if type(i) == tuple:\n",
    "            print(i,\"is tuple\")\n",
    "            break\n",
    "        print(i)"
   ]
  },
  {
   "cell_type": "code",
   "execution_count": 21,
   "id": "ca566a0a",
   "metadata": {
    "tags": []
   },
   "outputs": [
    {
     "name": "stdout",
     "output_type": "stream",
     "text": [
      "Enter number Of Row : 3\n",
      "Enter number of cols : 2\n",
      "Input for row : 1\n",
      "Enter Comma saperated value : 1,2\n",
      "Input for row : 2\n",
      "Enter Comma saperated value : 3,4\n",
      "Input for row : 3\n",
      "Enter Comma saperated value : 5,6\n",
      "Before Change\n",
      "[['1', '2'], ['3', '4'], ['5', '6']]\n",
      "\n",
      "After Change\n",
      "[['1', '2'], ('3', '4'), ['5', '6']]\n",
      "\n",
      "['1', '2']\n",
      "('3', '4') is tuple\n"
     ]
    }
   ],
   "source": [
    "rows = int(input(\"Enter number Of Row : \"))\n",
    "cols = int(input(\"Enter number of cols : \"))\n",
    "matrix = []\n",
    "\n",
    "for i in range(1, rows+1):\n",
    "    print(\"Input for row :\",i)\n",
    "    a = list(input(\"Enter Comma saperated value : \").split(\",\"))\n",
    "    matrix.append(a)\n",
    "print(\"Before Change\")\n",
    "print(matrix)\n",
    "\n",
    "matrix[1] = tuple(matrix[1])\n",
    "print()\n",
    "print(\"After Change\")\n",
    "print(matrix)\n",
    "\n",
    "print()\n",
    "search_tuple(matrix)"
   ]
  },
  {
   "cell_type": "code",
   "execution_count": null,
   "id": "f5c7ac2e",
   "metadata": {},
   "outputs": [],
   "source": []
  }
 ],
 "metadata": {
  "kernelspec": {
   "display_name": "Python 3 (ipykernel)",
   "language": "python",
   "name": "python3"
  },
  "language_info": {
   "codemirror_mode": {
    "name": "ipython",
    "version": 3
   },
   "file_extension": ".py",
   "mimetype": "text/x-python",
   "name": "python",
   "nbconvert_exporter": "python",
   "pygments_lexer": "ipython3",
   "version": "3.11.4"
  }
 },
 "nbformat": 4,
 "nbformat_minor": 5
}
