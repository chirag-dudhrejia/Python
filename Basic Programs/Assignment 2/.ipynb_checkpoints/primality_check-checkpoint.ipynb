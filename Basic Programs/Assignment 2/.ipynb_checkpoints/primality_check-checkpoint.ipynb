{
 "cells": [
  {
   "cell_type": "code",
   "execution_count": 12,
   "id": "757f9108",
   "metadata": {},
   "outputs": [
    {
     "name": "stdout",
     "output_type": "stream",
     "text": [
      "Enter number to check primality : 151\n",
      "151 is prime number\n"
     ]
    }
   ],
   "source": [
    "import math\n",
    "number = int(input(\"Enter number to check primality : \"))\n",
    "flag = 1\n",
    "for i in range(2,int(math.sqrt(number))+1):\n",
    "    if number%i == 0:\n",
    "        print(number,\"is not prime number\")\n",
    "        flag = 0\n",
    "        break\n",
    "    \n",
    "if flag == 1:\n",
    "    print(number,\"is prime number\")"
   ]
  },
  {
   "cell_type": "code",
   "execution_count": null,
   "id": "cae20918",
   "metadata": {},
   "outputs": [],
   "source": []
  }
 ],
 "metadata": {
  "kernelspec": {
   "display_name": "Python 3 (ipykernel)",
   "language": "python",
   "name": "python3"
  },
  "language_info": {
   "codemirror_mode": {
    "name": "ipython",
    "version": 3
   },
   "file_extension": ".py",
   "mimetype": "text/x-python",
   "name": "python",
   "nbconvert_exporter": "python",
   "pygments_lexer": "ipython3",
   "version": "3.11.4"
  }
 },
 "nbformat": 4,
 "nbformat_minor": 5
}
