{
 "cells": [
  {
   "cell_type": "code",
   "execution_count": 12,
   "id": "59881fc7",
   "metadata": {},
   "outputs": [],
   "source": [
    "def in_range(num, u_limit, l_limit):\n",
    "    if u_limit>=num and num>=l_limit:\n",
    "        return \"Yes, Number Is within given range\"\n",
    "    else:\n",
    "        return \"No, Number Is not within given range\""
   ]
  },
  {
   "cell_type": "code",
   "execution_count": 19,
   "id": "ec7c30d3",
   "metadata": {},
   "outputs": [
    {
     "name": "stdout",
     "output_type": "stream",
     "text": [
      "Enter number here : 5\n",
      "Enter Uppper Limit of range : 20\n",
      "Enter Lower Limit of range : 10\n"
     ]
    }
   ],
   "source": [
    "number = int(input(\"Enter number here : \"))\n",
    "upper_limit = int(input(\"Enter Uppper Limit of range : \"))\n",
    "lower_limit = int(input(\"Enter Lower Limit of range : \"))\n"
   ]
  },
  {
   "cell_type": "code",
   "execution_count": 20,
   "id": "c00a07b3",
   "metadata": {},
   "outputs": [
    {
     "data": {
      "text/plain": [
       "'No, Number Is not within given range'"
      ]
     },
     "execution_count": 20,
     "metadata": {},
     "output_type": "execute_result"
    }
   ],
   "source": [
    "in_range(number, upper_limit, lower_limit)"
   ]
  },
  {
   "cell_type": "code",
   "execution_count": 15,
   "id": "26cbee56",
   "metadata": {},
   "outputs": [],
   "source": [
    "ans = lambda num, u_lim, l_lim: \"Yes\" if u_lim>=num and num>=l_lim else \"No\""
   ]
  },
  {
   "cell_type": "code",
   "execution_count": 21,
   "id": "af46a615",
   "metadata": {},
   "outputs": [
    {
     "data": {
      "text/plain": [
       "'No'"
      ]
     },
     "execution_count": 21,
     "metadata": {},
     "output_type": "execute_result"
    }
   ],
   "source": [
    "ans(number, upper_limit, lower_limit)"
   ]
  },
  {
   "cell_type": "code",
   "execution_count": null,
   "id": "1025a3b9",
   "metadata": {},
   "outputs": [],
   "source": []
  }
 ],
 "metadata": {
  "kernelspec": {
   "display_name": "Python 3 (ipykernel)",
   "language": "python",
   "name": "python3"
  },
  "language_info": {
   "codemirror_mode": {
    "name": "ipython",
    "version": 3
   },
   "file_extension": ".py",
   "mimetype": "text/x-python",
   "name": "python",
   "nbconvert_exporter": "python",
   "pygments_lexer": "ipython3",
   "version": "3.11.4"
  }
 },
 "nbformat": 4,
 "nbformat_minor": 5
}
