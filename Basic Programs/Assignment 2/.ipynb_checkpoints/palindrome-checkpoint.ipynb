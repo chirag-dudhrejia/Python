{
 "cells": [
  {
   "cell_type": "code",
   "execution_count": 7,
   "id": "1bf727d4",
   "metadata": {},
   "outputs": [
    {
     "name": "stdout",
     "output_type": "stream",
     "text": [
      "Enter String here : nurses run\n",
      "palindrome\n"
     ]
    }
   ],
   "source": [
    "str = input(\"Enter String here : \")\n",
    "str = str.casefold()\n",
    "str = str.replace(\" \", \"\")\n",
    "\n",
    "str_rev = str[::-1]\n",
    "\n",
    "if str == str_rev:\n",
    "    print(\"palindrome\")\n",
    "else:\n",
    "    print(\"Not palindrome\")"
   ]
  },
  {
   "cell_type": "code",
   "execution_count": null,
   "id": "b6f33e39",
   "metadata": {},
   "outputs": [],
   "source": []
  }
 ],
 "metadata": {
  "kernelspec": {
   "display_name": "Python 3 (ipykernel)",
   "language": "python",
   "name": "python3"
  },
  "language_info": {
   "codemirror_mode": {
    "name": "ipython",
    "version": 3
   },
   "file_extension": ".py",
   "mimetype": "text/x-python",
   "name": "python",
   "nbconvert_exporter": "python",
   "pygments_lexer": "ipython3",
   "version": "3.11.4"
  }
 },
 "nbformat": 4,
 "nbformat_minor": 5
}
