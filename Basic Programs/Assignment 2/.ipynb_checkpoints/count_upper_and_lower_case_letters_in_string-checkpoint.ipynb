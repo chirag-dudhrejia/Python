{
 "cells": [
  {
   "cell_type": "code",
   "execution_count": 8,
   "id": "0de26457",
   "metadata": {},
   "outputs": [
    {
     "name": "stdout",
     "output_type": "stream",
     "text": [
      "Enter String Here : Hey! Buddy\n",
      "Upper : 2\n",
      "lower : 6\n"
     ]
    }
   ],
   "source": [
    "str = input(\"Enter String Here : \")\n",
    "\n",
    "upper = 0\n",
    "lower = 0\n",
    "\n",
    "for i in str:\n",
    "    if i.isupper():\n",
    "        upper+=1\n",
    "    elif i.islower():\n",
    "        lower+=1\n",
    "\n",
    "print(\"Upper :\", upper)\n",
    "print(\"lower :\", lower)"
   ]
  },
  {
   "cell_type": "code",
   "execution_count": null,
   "id": "bb691c92",
   "metadata": {},
   "outputs": [],
   "source": []
  }
 ],
 "metadata": {
  "kernelspec": {
   "display_name": "Python 3 (ipykernel)",
   "language": "python",
   "name": "python3"
  },
  "language_info": {
   "codemirror_mode": {
    "name": "ipython",
    "version": 3
   },
   "file_extension": ".py",
   "mimetype": "text/x-python",
   "name": "python",
   "nbconvert_exporter": "python",
   "pygments_lexer": "ipython3",
   "version": "3.11.4"
  }
 },
 "nbformat": 4,
 "nbformat_minor": 5
}
