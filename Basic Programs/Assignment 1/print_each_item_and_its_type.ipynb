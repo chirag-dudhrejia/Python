{
 "cells": [
  {
   "cell_type": "code",
   "execution_count": 2,
   "id": "0a16e258",
   "metadata": {},
   "outputs": [
    {
     "name": "stdout",
     "output_type": "stream",
     "text": [
      "type of 1336 is <class 'int'>\n",
      "type of hello is <class 'str'>\n",
      "type of 34.5 is <class 'float'>\n",
      "type of (6+7j) is <class 'complex'>\n",
      "type of True is <class 'bool'>\n",
      "type of [23, 77] is <class 'list'>\n",
      "type of (9, 10) is <class 'tuple'>\n"
     ]
    }
   ],
   "source": [
    "a = 1336\n",
    "b = 'hello'\n",
    "c = 34.5\n",
    "d = 6+ 7j\n",
    "e = True\n",
    "f = [23,77]\n",
    "g = (9,10)\n",
    "\n",
    "print(\"type of\", a,\"is\",type(a))\n",
    "print(\"type of\", b,\"is\",type(b))\n",
    "print(\"type of\", c,\"is\",type(c))\n",
    "print(\"type of\", d,\"is\",type(d))\n",
    "print(\"type of\", e,\"is\",type(e))\n",
    "print(\"type of\", f,\"is\",type(f))\n",
    "print(\"type of\", g,\"is\",type(g))"
   ]
  },
  {
   "cell_type": "code",
   "execution_count": null,
   "id": "31c7de86",
   "metadata": {},
   "outputs": [],
   "source": []
  }
 ],
 "metadata": {
  "kernelspec": {
   "display_name": "Python 3 (ipykernel)",
   "language": "python",
   "name": "python3"
  },
  "language_info": {
   "codemirror_mode": {
    "name": "ipython",
    "version": 3
   },
   "file_extension": ".py",
   "mimetype": "text/x-python",
   "name": "python",
   "nbconvert_exporter": "python",
   "pygments_lexer": "ipython3",
   "version": "3.11.4"
  }
 },
 "nbformat": 4,
 "nbformat_minor": 5
}
