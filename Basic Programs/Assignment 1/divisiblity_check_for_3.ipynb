{
 "cells": [
  {
   "cell_type": "code",
   "execution_count": 5,
   "id": "5b6e8a01",
   "metadata": {},
   "outputs": [
    {
     "name": "stdout",
     "output_type": "stream",
     "text": [
      "Enter number here 151\n",
      "No, 151 is not divisible by 3\n"
     ]
    }
   ],
   "source": [
    "number = int(input(\"Enter number here \"))\n",
    "\n",
    "if number%3 == 0:\n",
    "    print(\"Yes,\",number,\"is divisible by 3\")\n",
    "else:\n",
    "    print(\"No,\",number,\"is not divisible by 3\")"
   ]
  },
  {
   "cell_type": "code",
   "execution_count": null,
   "id": "8e0497c8",
   "metadata": {},
   "outputs": [],
   "source": []
  }
 ],
 "metadata": {
  "kernelspec": {
   "display_name": "Python 3 (ipykernel)",
   "language": "python",
   "name": "python3"
  },
  "language_info": {
   "codemirror_mode": {
    "name": "ipython",
    "version": 3
   },
   "file_extension": ".py",
   "mimetype": "text/x-python",
   "name": "python",
   "nbconvert_exporter": "python",
   "pygments_lexer": "ipython3",
   "version": "3.11.4"
  }
 },
 "nbformat": 4,
 "nbformat_minor": 5
}
