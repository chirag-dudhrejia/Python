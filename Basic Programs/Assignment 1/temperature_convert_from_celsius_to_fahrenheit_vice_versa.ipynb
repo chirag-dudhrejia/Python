{
 "cells": [
  {
   "cell_type": "code",
   "execution_count": 9,
   "id": "8d7a229a",
   "metadata": {},
   "outputs": [
    {
     "name": "stdout",
     "output_type": "stream",
     "text": [
      "1 for celsius to fahrenheit\n",
      "2 for fahrenheit to celsius\n",
      "Enter Here : 2\n",
      "Enter temperature in Fahrenheit : 85.6\n",
      "85.6 Fahrenheit = 29.77777777777778 Celsius.\n"
     ]
    }
   ],
   "source": [
    "print(\"1 for celsius to fahrenheit\",\"2 for fahrenheit to celsius\", sep=\"\\n\")\n",
    "\n",
    "case = int(input(\"Enter Here : \"))\n",
    "\n",
    "if case == 1:\n",
    "    celsius = float(input(\"Enter temperature in Celsius : \"))\n",
    "    fahrenheit = celsius*(9/5)+32\n",
    "    print(celsius,\"Celsius\",\"=\",fahrenheit,\"Fahrenheit.\")\n",
    "elif case == 2:\n",
    "    fahrenheit = float(input(\"Enter temperature in Fahrenheit : \"))\n",
    "    celsius = (fahrenheit-32)*5/9\n",
    "    print(fahrenheit,\"Fahrenheit\",\"=\",celsius,\"Celsius.\")\n",
    "else:\n",
    "    print(\"Invalid Input.\")"
   ]
  },
  {
   "cell_type": "code",
   "execution_count": null,
   "id": "0daa3e8f",
   "metadata": {},
   "outputs": [],
   "source": []
  }
 ],
 "metadata": {
  "kernelspec": {
   "display_name": "Python 3 (ipykernel)",
   "language": "python",
   "name": "python3"
  },
  "language_info": {
   "codemirror_mode": {
    "name": "ipython",
    "version": 3
   },
   "file_extension": ".py",
   "mimetype": "text/x-python",
   "name": "python",
   "nbconvert_exporter": "python",
   "pygments_lexer": "ipython3",
   "version": "3.11.4"
  }
 },
 "nbformat": 4,
 "nbformat_minor": 5
}
