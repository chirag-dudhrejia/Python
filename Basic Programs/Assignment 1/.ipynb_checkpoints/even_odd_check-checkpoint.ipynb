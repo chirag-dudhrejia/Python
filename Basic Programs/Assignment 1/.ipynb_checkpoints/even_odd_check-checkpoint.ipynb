{
 "cells": [
  {
   "cell_type": "code",
   "execution_count": 4,
   "id": "0ededaa9",
   "metadata": {},
   "outputs": [
    {
     "name": "stdout",
     "output_type": "stream",
     "text": [
      "Enter number here 1985267149631476483\n",
      "1985267149631476483 is odd number\n"
     ]
    }
   ],
   "source": [
    "number = int(input(\"Enter number here \"))\n",
    "\n",
    "if number%2 == 0:\n",
    "    print(number,\"is even number\")\n",
    "else:\n",
    "    print(number,\"is odd number\")"
   ]
  },
  {
   "cell_type": "code",
   "execution_count": null,
   "id": "e58a0cff",
   "metadata": {},
   "outputs": [],
   "source": []
  }
 ],
 "metadata": {
  "kernelspec": {
   "display_name": "Python 3 (ipykernel)",
   "language": "python",
   "name": "python3"
  },
  "language_info": {
   "codemirror_mode": {
    "name": "ipython",
    "version": 3
   },
   "file_extension": ".py",
   "mimetype": "text/x-python",
   "name": "python",
   "nbconvert_exporter": "python",
   "pygments_lexer": "ipython3",
   "version": "3.11.4"
  }
 },
 "nbformat": 4,
 "nbformat_minor": 5
}
