{
 "cells": [
  {
   "cell_type": "code",
   "execution_count": 7,
   "id": "e2715ec3",
   "metadata": {},
   "outputs": [
    {
     "name": "stdout",
     "output_type": "stream",
     "text": [
      "First Number 75\n",
      "Second Number 56\n",
      "Third Number 95\n",
      "Greatest number among [ 75 56 95 ] is :  95\n"
     ]
    }
   ],
   "source": [
    "num1 = int(input(\"First Number \"))\n",
    "num2 = int(input(\"Second Number \"))\n",
    "num3 = int(input(\"Third Number \"))\n",
    "\n",
    "if num1>num2 and num1>num3:\n",
    "    print(\"Greatest number among [\",num1,num2,num3,\"] is : \",num1)\n",
    "elif num2>num3:\n",
    "    print(\"Greatest number among [\",num1,num2,num3,\"] is : \",num2)\n",
    "else:\n",
    "    print(\"Greatest number among [\",num1,num2,num3,\"] is : \",num3)"
   ]
  },
  {
   "cell_type": "code",
   "execution_count": null,
   "id": "8d9db68b",
   "metadata": {},
   "outputs": [],
   "source": []
  }
 ],
 "metadata": {
  "kernelspec": {
   "display_name": "Python 3 (ipykernel)",
   "language": "python",
   "name": "python3"
  },
  "language_info": {
   "codemirror_mode": {
    "name": "ipython",
    "version": 3
   },
   "file_extension": ".py",
   "mimetype": "text/x-python",
   "name": "python",
   "nbconvert_exporter": "python",
   "pygments_lexer": "ipython3",
   "version": "3.11.4"
  }
 },
 "nbformat": 4,
 "nbformat_minor": 5
}
