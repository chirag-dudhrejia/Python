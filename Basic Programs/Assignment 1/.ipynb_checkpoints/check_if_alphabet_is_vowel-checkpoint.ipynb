{
 "cells": [
  {
   "cell_type": "code",
   "execution_count": 10,
   "id": "2d272976",
   "metadata": {},
   "outputs": [
    {
     "name": "stdout",
     "output_type": "stream",
     "text": [
      "Enter alphabet : U\n",
      "U is Vowuel\n"
     ]
    }
   ],
   "source": [
    "alphabet = input(\"Enter alphabet : \")\n",
    "\n",
    "if alphabet == 'A' or alphabet == 'a' or alphabet == 'e' or alphabet == 'E' or alphabet == 'i' or alphabet == 'I' or alphabet == 'o' or alphabet == 'O' or alphabet == 'u' or alphabet == 'U':\n",
    "    print(alphabet,\"is Vowuel\")\n",
    "else:\n",
    "    print(alphabet,\"is Consonent\")"
   ]
  },
  {
   "cell_type": "code",
   "execution_count": null,
   "id": "8d7ed7af",
   "metadata": {},
   "outputs": [],
   "source": []
  }
 ],
 "metadata": {
  "kernelspec": {
   "display_name": "Python 3 (ipykernel)",
   "language": "python",
   "name": "python3"
  },
  "language_info": {
   "codemirror_mode": {
    "name": "ipython",
    "version": 3
   },
   "file_extension": ".py",
   "mimetype": "text/x-python",
   "name": "python",
   "nbconvert_exporter": "python",
   "pygments_lexer": "ipython3",
   "version": "3.11.4"
  }
 },
 "nbformat": 4,
 "nbformat_minor": 5
}
