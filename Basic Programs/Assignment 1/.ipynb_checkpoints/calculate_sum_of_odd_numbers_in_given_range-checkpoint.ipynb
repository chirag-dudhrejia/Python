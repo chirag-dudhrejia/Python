{
 "cells": [
  {
   "cell_type": "code",
   "execution_count": 10,
   "id": "71c58833",
   "metadata": {},
   "outputs": [
    {
     "name": "stdout",
     "output_type": "stream",
     "text": [
      "Enter Number : 20\n",
      "sum of odd number in range of 20 is : 100\n"
     ]
    }
   ],
   "source": [
    "number = int(input(\"Enter Number : \"))\n",
    "sum = 0\n",
    "for i in range(1,number+1,2):\n",
    "    sum += i\n",
    "print(\"sum of odd number in range of\",number,\"is :\",sum)"
   ]
  },
  {
   "cell_type": "code",
   "execution_count": null,
   "id": "c0982314",
   "metadata": {},
   "outputs": [],
   "source": []
  }
 ],
 "metadata": {
  "kernelspec": {
   "display_name": "Python 3 (ipykernel)",
   "language": "python",
   "name": "python3"
  },
  "language_info": {
   "codemirror_mode": {
    "name": "ipython",
    "version": 3
   },
   "file_extension": ".py",
   "mimetype": "text/x-python",
   "name": "python",
   "nbconvert_exporter": "python",
   "pygments_lexer": "ipython3",
   "version": "3.11.4"
  }
 },
 "nbformat": 4,
 "nbformat_minor": 5
}
