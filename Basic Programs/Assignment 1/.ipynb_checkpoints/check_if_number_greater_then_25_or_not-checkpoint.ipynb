{
 "cells": [
  {
   "cell_type": "code",
   "execution_count": 4,
   "id": "b2265443",
   "metadata": {},
   "outputs": [
    {
     "name": "stdout",
     "output_type": "stream",
     "text": [
      "Enter any number here 28\n",
      "28 is Greater than 25\n"
     ]
    }
   ],
   "source": [
    "number = int(input(\"Enter any number here \"))\n",
    "if number>25:\n",
    "    print(number,\"is Greater than 25\")\n",
    "else:\n",
    "    print(number,\"is Less than 25\")"
   ]
  },
  {
   "cell_type": "code",
   "execution_count": null,
   "id": "2c520622",
   "metadata": {},
   "outputs": [],
   "source": []
  }
 ],
 "metadata": {
  "kernelspec": {
   "display_name": "Python 3 (ipykernel)",
   "language": "python",
   "name": "python3"
  },
  "language_info": {
   "codemirror_mode": {
    "name": "ipython",
    "version": 3
   },
   "file_extension": ".py",
   "mimetype": "text/x-python",
   "name": "python",
   "nbconvert_exporter": "python",
   "pygments_lexer": "ipython3",
   "version": "3.11.4"
  }
 },
 "nbformat": 4,
 "nbformat_minor": 5
}
