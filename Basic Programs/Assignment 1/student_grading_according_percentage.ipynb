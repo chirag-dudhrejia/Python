{
 "cells": [
  {
   "cell_type": "code",
   "execution_count": 4,
   "id": "dcf2375d",
   "metadata": {},
   "outputs": [
    {
     "name": "stdout",
     "output_type": "stream",
     "text": [
      "Enter Percentage here 91\n",
      "Grade : A\n"
     ]
    }
   ],
   "source": [
    "percentage = float(input(\"Enter Percentage here \"))\n",
    "\n",
    "if percentage>90:\n",
    "    print(\"Grade : A\")\n",
    "elif (percentage>80) and (percentage<=90):\n",
    "    print(\"Grade : B\")\n",
    "elif (percentage>=60) and (percentage<=80):\n",
    "    print(\"Grade : c\")\n",
    "elif percentage<60:\n",
    "    print(\"Grade : D\")"
   ]
  },
  {
   "cell_type": "code",
   "execution_count": null,
   "id": "9126baf1",
   "metadata": {},
   "outputs": [],
   "source": []
  }
 ],
 "metadata": {
  "kernelspec": {
   "display_name": "Python 3 (ipykernel)",
   "language": "python",
   "name": "python3"
  },
  "language_info": {
   "codemirror_mode": {
    "name": "ipython",
    "version": 3
   },
   "file_extension": ".py",
   "mimetype": "text/x-python",
   "name": "python",
   "nbconvert_exporter": "python",
   "pygments_lexer": "ipython3",
   "version": "3.11.4"
  }
 },
 "nbformat": 4,
 "nbformat_minor": 5
}
