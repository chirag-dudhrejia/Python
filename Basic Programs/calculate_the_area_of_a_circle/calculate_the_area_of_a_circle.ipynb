{
 "cells": [
  {
   "cell_type": "code",
   "execution_count": 2,
   "id": "59f06923-f015-4e93-bc84-49a1996be72a",
   "metadata": {},
   "outputs": [
    {
     "name": "stdout",
     "output_type": "stream",
     "text": [
      "Enter Radius : 2.4\n",
      "The area of circle with radius 2.4 is : 18.09557368467721\n"
     ]
    }
   ],
   "source": [
    "from math import pi\n",
    "radius = float(input(\"Enter Radius : \"))\n",
    "\n",
    "print(\"The area of circle with radius \" + str(radius) + \" is : \" + str(pi*radius**2))"
   ]
  },
  {
   "cell_type": "code",
   "execution_count": null,
   "id": "abae7190",
   "metadata": {},
   "outputs": [],
   "source": []
  }
 ],
 "metadata": {
  "kernelspec": {
   "display_name": "Python 3 (ipykernel)",
   "language": "python",
   "name": "python3"
  },
  "language_info": {
   "codemirror_mode": {
    "name": "ipython",
    "version": 3
   },
   "file_extension": ".py",
   "mimetype": "text/x-python",
   "name": "python",
   "nbconvert_exporter": "python",
   "pygments_lexer": "ipython3",
   "version": "3.11.4"
  }
 },
 "nbformat": 4,
 "nbformat_minor": 5
}
