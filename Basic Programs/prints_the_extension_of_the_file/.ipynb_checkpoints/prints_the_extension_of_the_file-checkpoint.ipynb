{
 "cells": [
  {
   "cell_type": "code",
   "execution_count": 2,
   "id": "4c1c43b4-3a6d-44ee-8851-4f3be416d4c7",
   "metadata": {
    "tags": []
   },
   "outputs": [
    {
     "name": "stdin",
     "output_type": "stream",
     "text": [
      "Enter Name Here chirag.java\n"
     ]
    },
    {
     "name": "stdout",
     "output_type": "stream",
     "text": [
      "entension of file chirag.java is java\n"
     ]
    }
   ],
   "source": [
    "filename = input(\"Enter Name Here\")\n",
    "f_exten = filename.split(\".\")\n",
    "print(\"entension of file\", filename, \"is\", f_exten[-1])"
   ]
  },
  {
   "cell_type": "code",
   "execution_count": null,
   "id": "086d182c-6fb8-4150-8339-0f6cce175db3",
   "metadata": {},
   "outputs": [],
   "source": []
  }
 ],
 "metadata": {
  "kernelspec": {
   "display_name": "Python 3 (ipykernel)",
   "language": "python",
   "name": "python3"
  },
  "language_info": {
   "codemirror_mode": {
    "name": "ipython",
    "version": 3
   },
   "file_extension": ".py",
   "mimetype": "text/x-python",
   "name": "python",
   "nbconvert_exporter": "python",
   "pygments_lexer": "ipython3",
   "version": "3.11.4"
  }
 },
 "nbformat": 4,
 "nbformat_minor": 5
}
